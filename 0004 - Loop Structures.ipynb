{
 "cells": [
  {
   "cell_type": "markdown",
   "id": "68113406",
   "metadata": {},
   "source": [
    "#### FOR LOOPS"
   ]
  },
  {
   "cell_type": "markdown",
   "id": "ea97c8fd",
   "metadata": {},
   "source": [
    "A for loop is used when you want to repeat an action for every element in a collection"
   ]
  },
  {
   "cell_type": "code",
   "execution_count": 2,
   "id": "2d93e283",
   "metadata": {},
   "outputs": [
    {
     "name": "stdout",
     "output_type": "stream",
     "text": [
      "High Price: 200\n",
      "High Price: 400\n",
      "High Price: 345\n",
      "High Price: 4233\n",
      "High Price: 456\n"
     ]
    }
   ],
   "source": [
    "stock_prices = [100,200,400,345,54,23,4233,456]\n",
    "for price in stock_prices:\n",
    "    if price>100:\n",
    "        print(\"High Price:\", price)"
   ]
  },
  {
   "cell_type": "code",
   "execution_count": 5,
   "id": "7e9cceff",
   "metadata": {},
   "outputs": [
    {
     "data": {
      "text/plain": [
       "411"
      ]
     },
     "execution_count": 5,
     "metadata": {},
     "output_type": "execute_result"
    }
   ],
   "source": [
    "numbers = [23,43,45,67,89,12,34,98]\n",
    "total = 0\n",
    "\n",
    "for num in numbers:\n",
    "    total = total+num\n",
    "    \n",
    "total"
   ]
  },
  {
   "cell_type": "markdown",
   "id": "2192540f",
   "metadata": {},
   "source": [
    "Exercise Problem: Daily Transactions"
   ]
  },
  {
   "cell_type": "markdown",
   "id": "aa57a2ab",
   "metadata": {},
   "source": [
    "transactions = [2000, -500, -1200, 3000, -700, 1500]\n",
    "\n",
    "Prints each transaction\n",
    "\n",
    "Calculates the final balance (starting from balance = 0)\n",
    "\n",
    "Counts how many withdrawals (negative transactions) happened"
   ]
  },
  {
   "cell_type": "code",
   "execution_count": 60,
   "id": "56670344",
   "metadata": {},
   "outputs": [
    {
     "name": "stdout",
     "output_type": "stream",
     "text": [
      "2000\n",
      "-500\n",
      "-1200\n",
      "3000\n",
      "-700\n",
      "1500\n"
     ]
    }
   ],
   "source": [
    "transactions = [2000, -500, -1200, 3000, -700, 1500]\n",
    "\n",
    "# Prints each transaction\n",
    "for trx in transactions:\n",
    "    print(trx)"
   ]
  },
  {
   "cell_type": "code",
   "execution_count": 9,
   "id": "b7bd7530",
   "metadata": {},
   "outputs": [
    {
     "data": {
      "text/plain": [
       "4100"
      ]
     },
     "execution_count": 9,
     "metadata": {},
     "output_type": "execute_result"
    }
   ],
   "source": [
    "# Calculates the final balance (starting from balance = 0)\n",
    "balance = 0\n",
    "\n",
    "for trx in transactions:\n",
    "    balance+=trx\n",
    "\n",
    "balance"
   ]
  },
  {
   "cell_type": "code",
   "execution_count": 13,
   "id": "7d69b5f4",
   "metadata": {},
   "outputs": [
    {
     "data": {
      "text/plain": [
       "3"
      ]
     },
     "execution_count": 13,
     "metadata": {},
     "output_type": "execute_result"
    }
   ],
   "source": [
    "# Counts how many withdrawals (negative transactions) happened\n",
    "neg_trx = 0\n",
    "\n",
    "for trx in transactions:\n",
    "    if trx<0:\n",
    "        neg_trx+=1\n",
    "\n",
    "neg_trx"
   ]
  },
  {
   "cell_type": "code",
   "execution_count": 30,
   "id": "5a69f56c",
   "metadata": {},
   "outputs": [
    {
     "name": "stdout",
     "output_type": "stream",
     "text": [
      "withdrawls = 3 \n",
      "withdrawl amount = 2400 \n",
      "\n",
      "deposits = 3 \n",
      "deposit amount = 6500 \n",
      "\n",
      "final balance = 4100\n"
     ]
    }
   ],
   "source": [
    "# total deposits and total withdrawls\n",
    "\n",
    "withdrawls_cnt = 0\n",
    "withdrawl_amount = 0\n",
    "\n",
    "deposits_cnt = 0\n",
    "deposits_amount = 0\n",
    "\n",
    "for trx in transactions:\n",
    "    if trx<0:\n",
    "        withdrawls_cnt+=1\n",
    "        trx = abs(trx)\n",
    "        withdrawl_amount+=trx \n",
    "    else:\n",
    "        deposits_cnt+=1\n",
    "        deposits_amount+=trx\n",
    "\n",
    "final_balance = deposits_amount - withdrawl_amount\n",
    "        \n",
    "print(\"withdrawls =\",withdrawls_cnt,\"\\nwithdrawl amount =\",withdrawl_amount ,\"\\n\\ndeposits =\", deposits_cnt, \"\\ndeposit amount =\",deposits_amount,\n",
    "     \"\\n\\nfinal balance =\", final_balance)        "
   ]
  },
  {
   "cell_type": "markdown",
   "id": "4c566b26",
   "metadata": {},
   "source": [
    "#### WHILE LOOPS"
   ]
  },
  {
   "cell_type": "markdown",
   "id": "10960a6d",
   "metadata": {},
   "source": [
    "A while loop repeats a block of code as long as a condition is true."
   ]
  },
  {
   "cell_type": "code",
   "execution_count": 34,
   "id": "2d74c8f3",
   "metadata": {},
   "outputs": [
    {
     "name": "stdout",
     "output_type": "stream",
     "text": [
      "Count =  1\n",
      "Count =  2\n",
      "Count =  3\n",
      "Count =  4\n",
      "Count =  5\n",
      "Count =  6\n"
     ]
    }
   ],
   "source": [
    "count = 1\n",
    "\n",
    "while count<=6:\n",
    "    print(\"Count = \",count)\n",
    "    count+=1"
   ]
  },
  {
   "cell_type": "code",
   "execution_count": 61,
   "id": "69b1b993",
   "metadata": {},
   "outputs": [
    {
     "name": "stdout",
     "output_type": "stream",
     "text": [
      "Lumpsum Invested = 245007\n",
      "CAGR(%) = 13\n",
      "1 | 276857\n",
      "2 | 312849\n",
      "3 | 353519\n",
      "4 | 399477\n",
      "5 | 451409\n",
      "6 | 510092\n",
      "7 | 576404\n",
      "8 | 651337\n",
      "9 | 736011\n",
      "\n",
      "At CAGR of 13.0 %, invested amount becomes thrice in 9 years.\n",
      "Investment will grow to Rs.736011.\n"
     ]
    }
   ],
   "source": [
    "# Years required for money to be 3 times invested amount\n",
    "\n",
    "Invested = int(input(\"Lumpsum Invested = \"))\n",
    "CAGR_pct = float(input(\"CAGR(%) = \"))\n",
    "\n",
    "CAGR = CAGR_pct/100            \n",
    "Years = 0\n",
    "Current = Invested\n",
    "\n",
    "while Current<3*Invested:\n",
    "    Years+=1\n",
    "    Current=Current*(1+CAGR)\n",
    "    print(f\"{Years} | {int(Current)}\")\n",
    "    \n",
    "print(f\"\\nAt CAGR of {CAGR*100} %, invested amount becomes thrice in {Years} years.\\nInvestment will grow to Rs.{int(Current)}.\")"
   ]
  },
  {
   "cell_type": "markdown",
   "id": "235b8444",
   "metadata": {},
   "source": [
    "#### BREAK Statements"
   ]
  },
  {
   "cell_type": "markdown",
   "id": "f411e127",
   "metadata": {},
   "source": [
    "Immediately exits the loop (no matter if the condition is still true).\n",
    "\n",
    "Useful when you’ve found what you’re looking for and don’t need to continue."
   ]
  },
  {
   "cell_type": "markdown",
   "id": "d852a964",
   "metadata": {},
   "source": [
    "Stop at first suspicious transaction:"
   ]
  },
  {
   "cell_type": "code",
   "execution_count": 66,
   "id": "c02cdd0a",
   "metadata": {},
   "outputs": [
    {
     "name": "stdout",
     "output_type": "stream",
     "text": [
      "23000 OK\n",
      "34000 OK\n",
      "1256 OK\n",
      "1265 OK\n",
      "7634 OK\n",
      "89165 OK\n",
      "130000 Suspicious Transaction Found\n"
     ]
    }
   ],
   "source": [
    "transactions = [23000,34000,1256,1265,7634,89165,130000,3452,5678,7856,230000]\n",
    "# transaction is suspicious if amount>100000\n",
    "\n",
    "for txn in transactions:\n",
    "    if txn<=100000:\n",
    "        print(txn,\"OK\")\n",
    "    else:\n",
    "        print(txn,\"Suspicious Transaction Found\")\n",
    "        break"
   ]
  },
  {
   "cell_type": "markdown",
   "id": "4617435e",
   "metadata": {},
   "source": [
    "#### CONTINUE Statement"
   ]
  },
  {
   "cell_type": "markdown",
   "id": "b4ca5afe",
   "metadata": {},
   "source": [
    "Skips the rest of the current loop iteration and jumps to the next one.\n",
    "\n",
    "Useful when you want to ignore certain cases."
   ]
  },
  {
   "cell_type": "markdown",
   "id": "354e43d0",
   "metadata": {},
   "source": [
    "Program to ignore transactions less than Rs.20,000"
   ]
  },
  {
   "cell_type": "code",
   "execution_count": 69,
   "id": "3affba8c",
   "metadata": {},
   "outputs": [
    {
     "name": "stdout",
     "output_type": "stream",
     "text": [
      "1256 transaction below Rs 20k\n",
      "1265 transaction below Rs 20k\n",
      "7634 transaction below Rs 20k\n",
      "3452 transaction below Rs 20k\n",
      "5678 transaction below Rs 20k\n",
      "7856 transaction below Rs 20k\n"
     ]
    }
   ],
   "source": [
    "transactions = [23000,34000,1256,1265,7634,89165,130000,3452,5678,7856,230000]\n",
    "\n",
    "for txn in transactions:\n",
    "    if txn<20000:\n",
    "        print(txn,\"transaction below Rs 20k\")"
   ]
  },
  {
   "cell_type": "markdown",
   "id": "331ca0e5",
   "metadata": {},
   "source": [
    "What’s the point of continue if same thing can be done using IF ELSE?\n",
    "\n",
    "\n",
    "Logically, you can always rewrite code without it.\n",
    "\n",
    "But continue is useful because:\n",
    "\n",
    "✅ It makes your intent clearer — “skip this case and move on.”\n",
    "\n",
    "✅ It avoids deep nesting. If your loop has a lot of code, continue helps you exit early instead of wrapping everything in multiple if blocks."
   ]
  },
  {
   "cell_type": "code",
   "execution_count": null,
   "id": "6da6f9da",
   "metadata": {},
   "outputs": [],
   "source": [
    "### Example to understand how BREAK and CONTINUE are different from each other"
   ]
  },
  {
   "cell_type": "code",
   "execution_count": 78,
   "id": "b4ad4020",
   "metadata": {},
   "outputs": [
    {
     "name": "stdout",
     "output_type": "stream",
     "text": [
      "1900 small\n",
      "2200 small\n"
     ]
    }
   ],
   "source": [
    "## BREAK: STOPS the loop as soon as the condition not met, i.e. at big transaction\n",
    "\n",
    "transactions = [1900,2200,23000,34000,1256,1265,7634,89165,130000,3452,5678,7856,230000]\n",
    "\n",
    "for txn in transactions:\n",
    "    if txn<20000:\n",
    "        print(txn, \"small\")\n",
    "    else:\n",
    "        break"
   ]
  },
  {
   "cell_type": "code",
   "execution_count": 82,
   "id": "4c3168ce",
   "metadata": {},
   "outputs": [
    {
     "name": "stdout",
     "output_type": "stream",
     "text": [
      "1900 small\n",
      "2200 small\n",
      "1256 small\n",
      "1265 small\n",
      "7634 small\n",
      "3452 small\n",
      "5678 small\n",
      "7856 small\n"
     ]
    }
   ],
   "source": [
    "## CONTINUE: SKIPS the loop when condition not met and move to next one\n",
    "\n",
    "transactions = [1900,2200,23000,34000,1256,1265,7634,89165,130000,3452,5678,7856,230000]\n",
    "\n",
    "for txn in transactions:\n",
    "    if txn<20000:\n",
    "        print(txn, \"small\")\n",
    "    else:\n",
    "        continue"
   ]
  },
  {
   "cell_type": "markdown",
   "id": "8cd48c60",
   "metadata": {},
   "source": [
    "#### What's next?"
   ]
  },
  {
   "cell_type": "markdown",
   "id": "15c4691b",
   "metadata": {},
   "source": [
    "Connect loops with collections (lists, dicts)"
   ]
  }
 ],
 "metadata": {
  "kernelspec": {
   "display_name": "Python 3 (ipykernel)",
   "language": "python",
   "name": "python3"
  },
  "language_info": {
   "codemirror_mode": {
    "name": "ipython",
    "version": 3
   },
   "file_extension": ".py",
   "mimetype": "text/x-python",
   "name": "python",
   "nbconvert_exporter": "python",
   "pygments_lexer": "ipython3",
   "version": "3.9.12"
  },
  "toc": {
   "base_numbering": 1,
   "nav_menu": {},
   "number_sections": true,
   "sideBar": true,
   "skip_h1_title": true,
   "title_cell": "Table of Contents",
   "title_sidebar": "Contents",
   "toc_cell": false,
   "toc_position": {},
   "toc_section_display": true,
   "toc_window_display": true
  },
  "varInspector": {
   "cols": {
    "lenName": 16,
    "lenType": 16,
    "lenVar": 40
   },
   "kernels_config": {
    "python": {
     "delete_cmd_postfix": "",
     "delete_cmd_prefix": "del ",
     "library": "var_list.py",
     "varRefreshCmd": "print(var_dic_list())"
    },
    "r": {
     "delete_cmd_postfix": ") ",
     "delete_cmd_prefix": "rm(",
     "library": "var_list.r",
     "varRefreshCmd": "cat(var_dic_list()) "
    }
   },
   "types_to_exclude": [
    "module",
    "function",
    "builtin_function_or_method",
    "instance",
    "_Feature"
   ],
   "window_display": false
  }
 },
 "nbformat": 4,
 "nbformat_minor": 5
}
