{
 "cells": [
  {
   "cell_type": "markdown",
   "id": "7c0984d6",
   "metadata": {},
   "source": [
    "#### List"
   ]
  },
  {
   "cell_type": "markdown",
   "id": "1e02a1b9",
   "metadata": {},
   "source": [
    "-A list is an ordered, mutable collection of items.\n",
    "\n",
    "-Can store different data types (integers, strings, floats, even other lists).\n",
    "\n",
    "-[a,b,c,d]"
   ]
  },
  {
   "cell_type": "code",
   "execution_count": 15,
   "id": "c21be542",
   "metadata": {},
   "outputs": [
    {
     "data": {
      "text/plain": [
       "list"
      ]
     },
     "execution_count": 15,
     "metadata": {},
     "output_type": "execute_result"
    }
   ],
   "source": [
    "type([1,2,4,5])"
   ]
  },
  {
   "cell_type": "code",
   "execution_count": 2,
   "id": "bab61daf",
   "metadata": {},
   "outputs": [],
   "source": [
    "# Creating a list\n",
    "transactions = [1000,200,432,567,2342,3321,23432]"
   ]
  },
  {
   "cell_type": "code",
   "execution_count": 4,
   "id": "b28fcb4d",
   "metadata": {},
   "outputs": [
    {
     "data": {
      "text/plain": [
       "432"
      ]
     },
     "execution_count": 4,
     "metadata": {},
     "output_type": "execute_result"
    }
   ],
   "source": [
    "# 3rd transaction (when 3rd is required, index = 3-1 = 2)\n",
    "transactions[2]"
   ]
  },
  {
   "cell_type": "code",
   "execution_count": 6,
   "id": "ad1a4bec",
   "metadata": {},
   "outputs": [
    {
     "data": {
      "text/plain": [
       "[567, 2342, 3321, 23432]"
      ]
     },
     "execution_count": 6,
     "metadata": {},
     "output_type": "execute_result"
    }
   ],
   "source": [
    "# 4 to 7 th transaction\n",
    "transactions[3:7]"
   ]
  },
  {
   "cell_type": "markdown",
   "id": "39c78774",
   "metadata": {},
   "source": [
    "##### Updating  a list"
   ]
  },
  {
   "cell_type": "code",
   "execution_count": 11,
   "id": "7fefeb7e",
   "metadata": {},
   "outputs": [],
   "source": [
    "transactions[0] = 2000       # update first value\n",
    "transactions.append(3000)    # add element at end\n",
    "transactions.insert(2, 450)  # insert at index 2\n",
    "# transactions.remove(3321)    # remove specific value # work only once, cz next time, element wont be there.\n",
    "last_txn = transactions.pop() # remove last element"
   ]
  },
  {
   "cell_type": "markdown",
   "id": "460b65f2",
   "metadata": {},
   "source": [
    "##### Some useful list functions"
   ]
  },
  {
   "cell_type": "code",
   "execution_count": 13,
   "id": "7e35c29d",
   "metadata": {},
   "outputs": [
    {
     "name": "stdout",
     "output_type": "stream",
     "text": [
      "14\n",
      "40223\n",
      "23432\n",
      "200\n"
     ]
    }
   ],
   "source": [
    "print(len(transactions))    # number of elements\n",
    "print(sum(transactions))    # total balance (credits - debits)\n",
    "print(max(transactions))    # largest transaction\n",
    "print(min(transactions))    # smallest transaction"
   ]
  },
  {
   "cell_type": "markdown",
   "id": "4f4a79bb",
   "metadata": {},
   "source": [
    "Mutable vs Immutable\n",
    "\n",
    "Mutable → You can change the object after it’s created.\n",
    "\n",
    "Immutable → You cannot change the object after it’s created."
   ]
  },
  {
   "cell_type": "markdown",
   "id": "d0562b65",
   "metadata": {},
   "source": [
    "#### Tuples"
   ]
  },
  {
   "cell_type": "markdown",
   "id": "e4a92062",
   "metadata": {},
   "source": [
    "Ordered (elements have a defined order).\n",
    "\n",
    "Immutable (cannot be changed after creation).\n",
    "\n",
    "Faster than lists.\n",
    "\n",
    "Useful for fixed data that should not change.\n",
    "\n",
    "(a,b,c,d)"
   ]
  },
  {
   "cell_type": "code",
   "execution_count": 16,
   "id": "fc291567",
   "metadata": {},
   "outputs": [
    {
     "data": {
      "text/plain": [
       "tuple"
      ]
     },
     "execution_count": 16,
     "metadata": {},
     "output_type": "execute_result"
    }
   ],
   "source": [
    "type((1,2,3))"
   ]
  },
  {
   "cell_type": "markdown",
   "id": "e17140bf",
   "metadata": {},
   "source": [
    "##### Nested Tuples"
   ]
  },
  {
   "cell_type": "code",
   "execution_count": 18,
   "id": "d528ccb7",
   "metadata": {},
   "outputs": [],
   "source": [
    "bank = ((\"ICICI\", \"Mumbai\"), (\"HDFC\", \"Pune\"))"
   ]
  },
  {
   "cell_type": "code",
   "execution_count": 21,
   "id": "fa6d9d97",
   "metadata": {},
   "outputs": [
    {
     "data": {
      "text/plain": [
       "('HDFC', 'Pune')"
      ]
     },
     "execution_count": 21,
     "metadata": {},
     "output_type": "execute_result"
    }
   ],
   "source": [
    "bank[1]"
   ]
  },
  {
   "cell_type": "code",
   "execution_count": 22,
   "id": "51a8f3c7",
   "metadata": {},
   "outputs": [
    {
     "name": "stdout",
     "output_type": "stream",
     "text": [
      "Mumbai\n"
     ]
    }
   ],
   "source": [
    "#branch location of ICICI\n",
    "print(bank[0][1])"
   ]
  },
  {
   "cell_type": "code",
   "execution_count": 24,
   "id": "08bc53af",
   "metadata": {},
   "outputs": [
    {
     "name": "stdout",
     "output_type": "stream",
     "text": [
      "HDFC\n"
     ]
    }
   ],
   "source": [
    "#bank in Pune\n",
    "print(bank[1][0])"
   ]
  },
  {
   "cell_type": "markdown",
   "id": "a2136827",
   "metadata": {},
   "source": [
    "#### Sets"
   ]
  },
  {
   "cell_type": "markdown",
   "id": "b97750c6",
   "metadata": {},
   "source": [
    "Unordered collection of unique elements.\n",
    "\n",
    "Mutable (can add/remove elements).\n",
    "\n",
    "Removes duplicates automatically.\n",
    "\n",
    "Very useful in fintech when you need to handle unique customer IDs, account numbers, stock tickers etc.\n",
    "\n",
    "{a,b,c,d}"
   ]
  },
  {
   "cell_type": "code",
   "execution_count": 27,
   "id": "b1196fbc",
   "metadata": {},
   "outputs": [
    {
     "data": {
      "text/plain": [
       "set"
      ]
     },
     "execution_count": 27,
     "metadata": {},
     "output_type": "execute_result"
    }
   ],
   "source": [
    "type({\"Raju\",\"Sham\"})"
   ]
  },
  {
   "cell_type": "code",
   "execution_count": 31,
   "id": "65c858f8",
   "metadata": {},
   "outputs": [
    {
     "data": {
      "text/plain": [
       "set"
      ]
     },
     "execution_count": 31,
     "metadata": {},
     "output_type": "execute_result"
    }
   ],
   "source": [
    "type({\"Raju\",\"Sham\",True,8.9,99,12,False})"
   ]
  },
  {
   "cell_type": "code",
   "execution_count": 39,
   "id": "8741aa31",
   "metadata": {},
   "outputs": [
    {
     "data": {
      "text/plain": [
       "{12, 8.9, 99, 'Aman', False, 'Raju', 'Sham', True}"
      ]
     },
     "execution_count": 39,
     "metadata": {},
     "output_type": "execute_result"
    }
   ],
   "source": [
    "random = {\"Raju\",\"Sham\",True,8.9,99,12,False,False,True,\"Aman\",\"Sham\"}\n",
    "random # Duplicates removed automatically as shown below"
   ]
  },
  {
   "cell_type": "code",
   "execution_count": 40,
   "id": "7217775d",
   "metadata": {},
   "outputs": [],
   "source": [
    "random.add(\"Ganesh\")      # add new element\n",
    "random.remove(\"Sham\")   # remove element\n",
    "random.discard(True) # safe remove (no error if not present)"
   ]
  },
  {
   "cell_type": "code",
   "execution_count": 42,
   "id": "1989f1d6",
   "metadata": {},
   "outputs": [
    {
     "data": {
      "text/plain": [
       "{12, 8.9, 99, 'Aman', False, 'Ganesh', 'Raju'}"
      ]
     },
     "execution_count": 42,
     "metadata": {},
     "output_type": "execute_result"
    }
   ],
   "source": [
    "random"
   ]
  },
  {
   "cell_type": "markdown",
   "id": "051e8ffc",
   "metadata": {},
   "source": [
    "##### Set Operations"
   ]
  },
  {
   "cell_type": "code",
   "execution_count": 43,
   "id": "576dd68f",
   "metadata": {},
   "outputs": [],
   "source": [
    "bank_A = {\"Ramesh\", \"Suresh\", \"Mahesh\"}\n",
    "bank_B = {\"Suresh\", \"Ganesh\", \"Rakesh\"}"
   ]
  },
  {
   "cell_type": "code",
   "execution_count": 45,
   "id": "93fa6af7",
   "metadata": {},
   "outputs": [
    {
     "name": "stdout",
     "output_type": "stream",
     "text": [
      "{'Mahesh', 'Rakesh', 'Ganesh', 'Ramesh', 'Suresh'}\n"
     ]
    }
   ],
   "source": [
    "print(bank_A | bank_B)   # Union"
   ]
  },
  {
   "cell_type": "code",
   "execution_count": 47,
   "id": "bd07f9de",
   "metadata": {},
   "outputs": [
    {
     "name": "stdout",
     "output_type": "stream",
     "text": [
      "{'Suresh'}\n"
     ]
    }
   ],
   "source": [
    "print(bank_A & bank_B)   # Intersection"
   ]
  },
  {
   "cell_type": "code",
   "execution_count": 49,
   "id": "55999e36",
   "metadata": {},
   "outputs": [
    {
     "name": "stdout",
     "output_type": "stream",
     "text": [
      "{'Mahesh', 'Ramesh'}\n"
     ]
    }
   ],
   "source": [
    "print(bank_A - bank_B)   # Difference"
   ]
  },
  {
   "cell_type": "markdown",
   "id": "f72395c3",
   "metadata": {},
   "source": [
    "Ensure uniqueness (no duplicate customers).\n",
    "\n",
    "Quickly find common customers between banks.\n",
    "\n",
    "Detect fraud by checking repeated transaction IDs."
   ]
  },
  {
   "cell_type": "markdown",
   "id": "b0d959c7",
   "metadata": {},
   "source": [
    "#### Dictionary"
   ]
  },
  {
   "cell_type": "markdown",
   "id": "3d7f5b40",
   "metadata": {},
   "source": [
    "A key–value pair data structure.\n",
    "\n",
    "Keys must be unique & immutable (strings, numbers, tuples).\n",
    "\n",
    "Values can be anything (lists, dicts, numbers, strings).\n",
    "\n",
    "Very useful in fintech to map customer → portfolio, account → balance, txn_id → details."
   ]
  },
  {
   "cell_type": "code",
   "execution_count": 53,
   "id": "686d2da2",
   "metadata": {},
   "outputs": [
    {
     "data": {
      "text/plain": [
       "{'a': 1, 'b': 2, 'c': 3, 'k': 11, 'x': 24, 'y': 25, 'z': 26}"
      ]
     },
     "execution_count": 53,
     "metadata": {},
     "output_type": "execute_result"
    }
   ],
   "source": [
    "example = {\"a\":1,\"b\":2,\"c\":3,\"k\":11,\"x\":24,\"y\":25,\"z\":26}\n",
    "example"
   ]
  },
  {
   "cell_type": "code",
   "execution_count": 63,
   "id": "a70d98b9",
   "metadata": {},
   "outputs": [
    {
     "data": {
      "text/plain": [
       "1"
      ]
     },
     "execution_count": 63,
     "metadata": {},
     "output_type": "execute_result"
    }
   ],
   "source": [
    "example[\"a\"]"
   ]
  },
  {
   "cell_type": "code",
   "execution_count": 65,
   "id": "db48774c",
   "metadata": {},
   "outputs": [
    {
     "data": {
      "text/plain": [
       "26"
      ]
     },
     "execution_count": 65,
     "metadata": {},
     "output_type": "execute_result"
    }
   ],
   "source": [
    "example[\"z\"]"
   ]
  },
  {
   "cell_type": "code",
   "execution_count": 67,
   "id": "c82e2723",
   "metadata": {},
   "outputs": [
    {
     "ename": "KeyError",
     "evalue": "26",
     "output_type": "error",
     "traceback": [
      "\u001b[1;31m---------------------------------------------------------------------------\u001b[0m",
      "\u001b[1;31mKeyError\u001b[0m                                  Traceback (most recent call last)",
      "Cell \u001b[1;32mIn[67], line 1\u001b[0m\n\u001b[1;32m----> 1\u001b[0m \u001b[43mexample\u001b[49m\u001b[43m[\u001b[49m\u001b[38;5;241;43m26\u001b[39;49m\u001b[43m]\u001b[49m\n",
      "\u001b[1;31mKeyError\u001b[0m: 26"
     ]
    }
   ],
   "source": [
    "example[26]"
   ]
  },
  {
   "cell_type": "markdown",
   "id": "c15cfb2a",
   "metadata": {},
   "source": [
    "dict[key] → access by key, not value.\n",
    "\n",
    "To find a value → use dict.values() or loop through items."
   ]
  },
  {
   "cell_type": "markdown",
   "id": "1a986f25",
   "metadata": {},
   "source": [
    "#### In a glance: Python Data Structures – Common Operations"
   ]
  },
  {
   "cell_type": "markdown",
   "id": "c798958e",
   "metadata": {},
   "source": [
    "**List Operations**\n",
    "\n",
    "Create a list\n",
    "\n",
    "Indexing and slicing\n",
    "\n",
    "Add item (append(), insert(), extend())\n",
    "\n",
    "Remove item (remove(), pop(), clear())\n",
    "\n",
    "Update/replace element by index\n",
    "\n",
    "Find length (len())\n",
    "\n",
    "Find sum, min, max (sum(), min(), max())\n",
    "\n",
    "Sorting (sort(), sorted())\n",
    "\n",
    "Count occurrences (count())\n",
    "\n",
    "Find index of element (index())\n",
    "\n",
    "Iterate with for loop\n",
    "\n",
    "List comprehension ([expression for ...])"
   ]
  },
  {
   "cell_type": "markdown",
   "id": "c64e113f",
   "metadata": {},
   "source": [
    "**Tuple Operations**\n",
    "\n",
    "Create a tuple\n",
    "\n",
    "Indexing and slicing\n",
    "\n",
    "Tuple unpacking\n",
    "\n",
    "Find length (len())\n",
    "\n",
    "Count occurrences (count())\n",
    "\n",
    "Find index of element (index())\n",
    "\n",
    "Membership test (in, not in)\n",
    "\n",
    "Nesting tuples\n",
    "\n",
    "Iteration with for loop"
   ]
  },
  {
   "cell_type": "markdown",
   "id": "42b7153b",
   "metadata": {},
   "source": [
    "**Set Operations**\n",
    "\n",
    "Create a set\n",
    "\n",
    "Add element (add(), update())\n",
    "\n",
    "Remove element (remove(), discard(), pop())\n",
    "\n",
    "Clear set (clear())\n",
    "\n",
    "Union (|, union())\n",
    "\n",
    "Intersection (&, intersection())\n",
    "\n",
    "Difference (-, difference())\n",
    "\n",
    "Symmetric difference (^, symmetric_difference())\n",
    "\n",
    "Membership test (in, not in)\n",
    "\n",
    "Set comprehension ({expression for ...})"
   ]
  },
  {
   "cell_type": "markdown",
   "id": "c26ee8ed",
   "metadata": {},
   "source": [
    "**Dictionary Operations**\n",
    "\n",
    "Create a dictionary\n",
    "\n",
    "Access values (dict[key], get())\n",
    "\n",
    "Add a key-value pair\n",
    "\n",
    "Update an existing value\n",
    "\n",
    "Remove a key (pop(), del)\n",
    "\n",
    "Clear all items (clear())\n",
    "\n",
    "Get all keys (keys())\n",
    "\n",
    "Get all values (values())\n",
    "\n",
    "Get all items (items())\n",
    "\n",
    "Iterate over keys, values, items\n",
    "\n",
    "Check membership (in, not in)\n",
    "\n",
    "Copy a dictionary (copy())\n",
    "\n",
    "Nested dictionaries (dict inside dict)\n",
    "\n",
    "Update with another dictionary (update())\n",
    "\n",
    "Dictionary comprehension ({key: value for ...})\n",
    "\n",
    "Safe access with default (get(key, default))"
   ]
  }
 ],
 "metadata": {
  "kernelspec": {
   "display_name": "Python 3 (ipykernel)",
   "language": "python",
   "name": "python3"
  },
  "language_info": {
   "codemirror_mode": {
    "name": "ipython",
    "version": 3
   },
   "file_extension": ".py",
   "mimetype": "text/x-python",
   "name": "python",
   "nbconvert_exporter": "python",
   "pygments_lexer": "ipython3",
   "version": "3.9.12"
  },
  "toc": {
   "base_numbering": 1,
   "nav_menu": {},
   "number_sections": true,
   "sideBar": true,
   "skip_h1_title": true,
   "title_cell": "Table of Contents",
   "title_sidebar": "Contents",
   "toc_cell": false,
   "toc_position": {},
   "toc_section_display": true,
   "toc_window_display": true
  },
  "varInspector": {
   "cols": {
    "lenName": 16,
    "lenType": 16,
    "lenVar": 40
   },
   "kernels_config": {
    "python": {
     "delete_cmd_postfix": "",
     "delete_cmd_prefix": "del ",
     "library": "var_list.py",
     "varRefreshCmd": "print(var_dic_list())"
    },
    "r": {
     "delete_cmd_postfix": ") ",
     "delete_cmd_prefix": "rm(",
     "library": "var_list.r",
     "varRefreshCmd": "cat(var_dic_list()) "
    }
   },
   "types_to_exclude": [
    "module",
    "function",
    "builtin_function_or_method",
    "instance",
    "_Feature"
   ],
   "window_display": false
  }
 },
 "nbformat": 4,
 "nbformat_minor": 5
}
