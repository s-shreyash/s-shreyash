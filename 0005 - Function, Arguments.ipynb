{
 "cells": [
  {
   "cell_type": "markdown",
   "id": "7f37b927",
   "metadata": {},
   "source": [
    "#### Functions"
   ]
  },
  {
   "cell_type": "markdown",
   "id": "9955ca20",
   "metadata": {},
   "source": [
    "• A reusable block of code that performs a specific task.\n",
    "• Helps in code reusability, readability, and avoids repetition."
   ]
  },
  {
   "cell_type": "code",
   "execution_count": 5,
   "id": "a75b1e6e",
   "metadata": {},
   "outputs": [],
   "source": [
    "# defining a functi0on\n",
    "\n",
    "def greeting(): #paranthesis is necessry\n",
    "    print(\"Hello, how are you?\")"
   ]
  },
  {
   "cell_type": "code",
   "execution_count": 6,
   "id": "ecdb7431",
   "metadata": {},
   "outputs": [
    {
     "data": {
      "text/plain": [
       "<function __main__.greeting()>"
      ]
     },
     "execution_count": 6,
     "metadata": {},
     "output_type": "execute_result"
    }
   ],
   "source": [
    "greeting"
   ]
  },
  {
   "cell_type": "code",
   "execution_count": 8,
   "id": "b13cbf5e",
   "metadata": {},
   "outputs": [
    {
     "name": "stdout",
     "output_type": "stream",
     "text": [
      "Hello, how are you?\n"
     ]
    }
   ],
   "source": [
    "greeting()     # paranthesis is necessary"
   ]
  },
  {
   "cell_type": "code",
   "execution_count": 14,
   "id": "b6598de3",
   "metadata": {},
   "outputs": [
    {
     "data": {
      "text/plain": [
       "'Hello, Shreyash'"
      ]
     },
     "execution_count": 14,
     "metadata": {},
     "output_type": "execute_result"
    }
   ],
   "source": [
    "#Function with Parameters\n",
    "\n",
    "def greet_with_name(name):\n",
    "    return f\"Hello, {name}\""
   ]
  },
  {
   "cell_type": "code",
   "execution_count": 16,
   "id": "d2e574c6",
   "metadata": {},
   "outputs": [
    {
     "ename": "NameError",
     "evalue": "name 'Shreyash' is not defined",
     "output_type": "error",
     "traceback": [
      "\u001b[1;31m---------------------------------------------------------------------------\u001b[0m",
      "\u001b[1;31mNameError\u001b[0m                                 Traceback (most recent call last)",
      "Cell \u001b[1;32mIn[16], line 1\u001b[0m\n\u001b[1;32m----> 1\u001b[0m greet_with_name(\u001b[43mShreyash\u001b[49m)\n",
      "\u001b[1;31mNameError\u001b[0m: name 'Shreyash' is not defined"
     ]
    }
   ],
   "source": [
    "greet_with_name(Shreyash)"
   ]
  },
  {
   "cell_type": "code",
   "execution_count": 20,
   "id": "ab177f10",
   "metadata": {},
   "outputs": [
    {
     "data": {
      "text/plain": [
       "'Hello, Shreyash'"
      ]
     },
     "execution_count": 20,
     "metadata": {},
     "output_type": "execute_result"
    }
   ],
   "source": [
    "greet_with_name(\"Shreyash\")"
   ]
  },
  {
   "cell_type": "code",
   "execution_count": 23,
   "id": "1e42724b",
   "metadata": {},
   "outputs": [
    {
     "data": {
      "text/plain": [
       "(9, 27)"
      ]
     },
     "execution_count": 23,
     "metadata": {},
     "output_type": "execute_result"
    }
   ],
   "source": [
    "# function returning multiple values\n",
    "\n",
    "# findig a sqaure and cube of a function\n",
    "\n",
    "def square_cube_of_number(x):\n",
    "    return x**2, x**3\n",
    "\n",
    "square_cube_of_number(3)"
   ]
  },
  {
   "cell_type": "code",
   "execution_count": 30,
   "id": "8450333a",
   "metadata": {},
   "outputs": [
    {
     "data": {
      "text/plain": [
       "9"
      ]
     },
     "execution_count": 30,
     "metadata": {},
     "output_type": "execute_result"
    }
   ],
   "source": [
    "# writing the same fucntion above in a different way \n",
    "# findig a sqaure and cube of a function\n",
    "\n",
    "def square_cube_of_number(x):\n",
    "    return x**2, x**3\n",
    "\n",
    "sq, cb = square_cube_of_number(3)\n",
    "\n",
    "# to get square only\n",
    "sq"
   ]
  },
  {
   "cell_type": "markdown",
   "id": "613a448c",
   "metadata": {},
   "source": [
    "#### EMI Calculator "
   ]
  },
  {
   "cell_type": "code",
   "execution_count": 37,
   "id": "70396ce9",
   "metadata": {},
   "outputs": [],
   "source": [
    "def EMI(principal, annual_rate, months):\n",
    "    \n",
    "    monthly_rate = annual_rate/(12*100)\n",
    "    \n",
    "    EMI = (principal * monthly_rate * (1 + monthly_rate) ** months) / \\\n",
    "          ((1 + monthly_rate) ** months - 1)\n",
    "    \n",
    "    \n",
    "    return EMI"
   ]
  },
  {
   "cell_type": "code",
   "execution_count": 42,
   "id": "2a8b0267",
   "metadata": {},
   "outputs": [
    {
     "data": {
      "text/plain": [
       "10018"
      ]
     },
     "execution_count": 42,
     "metadata": {},
     "output_type": "execute_result"
    }
   ],
   "source": [
    "principal = 500000\n",
    "annual_rate = 7.5\n",
    "months = 60\n",
    "\n",
    "int(EMI(principal, annual_rate, months))"
   ]
  },
  {
   "cell_type": "markdown",
   "id": "3326ede2",
   "metadata": {},
   "source": [
    "#### Arguments "
   ]
  },
  {
   "cell_type": "markdown",
   "id": "e5d261be",
   "metadata": {},
   "source": [
    "Positional Arguments → Values are assigned to parameters in the order they are passed.\n",
    "\n",
    "Keyword Arguments → Values are assigned by explicitly naming the parameter, order doesn’t matter.\n",
    "\n",
    "Default Arguments → Parameters that have a preset value if not provided by the user.\n",
    "\n",
    "Variable-Length Arguments (*args) → Allows passing multiple positional values as a tuple.\n",
    "\n",
    "Variable-Length Keyword Arguments (**kwargs) → Allows passing multiple keyword values as a dictionary."
   ]
  },
  {
   "cell_type": "code",
   "execution_count": null,
   "id": "f2878860",
   "metadata": {},
   "outputs": [],
   "source": [
    "# NEXT TOPIC: Python List Dict T"
   ]
  }
 ],
 "metadata": {
  "kernelspec": {
   "display_name": "Python 3 (ipykernel)",
   "language": "python",
   "name": "python3"
  },
  "language_info": {
   "codemirror_mode": {
    "name": "ipython",
    "version": 3
   },
   "file_extension": ".py",
   "mimetype": "text/x-python",
   "name": "python",
   "nbconvert_exporter": "python",
   "pygments_lexer": "ipython3",
   "version": "3.9.12"
  },
  "toc": {
   "base_numbering": 1,
   "nav_menu": {},
   "number_sections": true,
   "sideBar": true,
   "skip_h1_title": true,
   "title_cell": "Table of Contents",
   "title_sidebar": "Contents",
   "toc_cell": false,
   "toc_position": {
    "height": "calc(100% - 180px)",
    "left": "10px",
    "top": "150px",
    "width": "165px"
   },
   "toc_section_display": false,
   "toc_window_display": false
  },
  "varInspector": {
   "cols": {
    "lenName": 16,
    "lenType": 16,
    "lenVar": 40
   },
   "kernels_config": {
    "python": {
     "delete_cmd_postfix": "",
     "delete_cmd_prefix": "del ",
     "library": "var_list.py",
     "varRefreshCmd": "print(var_dic_list())"
    },
    "r": {
     "delete_cmd_postfix": ") ",
     "delete_cmd_prefix": "rm(",
     "library": "var_list.r",
     "varRefreshCmd": "cat(var_dic_list()) "
    }
   },
   "types_to_exclude": [
    "module",
    "function",
    "builtin_function_or_method",
    "instance",
    "_Feature"
   ],
   "window_display": false
  }
 },
 "nbformat": 4,
 "nbformat_minor": 5
}
