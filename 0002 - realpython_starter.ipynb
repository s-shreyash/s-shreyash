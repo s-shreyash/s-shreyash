{
 "cells": [
  {
   "cell_type": "markdown",
   "id": "b7776dd6",
   "metadata": {},
   "source": [
    "##### Project Documentation: https://static.realpython.com/python-basics-sample-chapters.pdf"
   ]
  },
  {
   "cell_type": "code",
   "execution_count": 33,
   "id": "5ec54184",
   "metadata": {},
   "outputs": [
    {
     "data": {
      "text/plain": [
       "2"
      ]
     },
     "execution_count": 33,
     "metadata": {},
     "output_type": "execute_result"
    }
   ],
   "source": [
    "1+1"
   ]
  },
  {
   "cell_type": "code",
   "execution_count": 34,
   "id": "7b719b3d",
   "metadata": {},
   "outputs": [
    {
     "name": "stdout",
     "output_type": "stream",
     "text": [
      "Hello Agentic AI+Fintech\n"
     ]
    }
   ],
   "source": [
    "print(\"Hello Agentic AI+Fintech\")"
   ]
  },
  {
   "cell_type": "code",
   "execution_count": 35,
   "id": "789ce141",
   "metadata": {},
   "outputs": [
    {
     "ename": "SyntaxError",
     "evalue": "EOL while scanning string literal (221092927.py, line 2)",
     "output_type": "error",
     "traceback": [
      "\u001b[1;36m  Cell \u001b[1;32mIn[35], line 2\u001b[1;36m\u001b[0m\n\u001b[1;33m    print(\"hello)\u001b[0m\n\u001b[1;37m                 ^\u001b[0m\n\u001b[1;31mSyntaxError\u001b[0m\u001b[1;31m:\u001b[0m EOL while scanning string literal\n"
     ]
    }
   ],
   "source": [
    "# Syntax Error\n",
    "print(\"hello)"
   ]
  },
  {
   "cell_type": "code",
   "execution_count": 36,
   "id": "54cab091",
   "metadata": {},
   "outputs": [],
   "source": [
    "#EOL means end of line"
   ]
  },
  {
   "cell_type": "code",
   "execution_count": 37,
   "id": "4ff78f54",
   "metadata": {},
   "outputs": [
    {
     "ename": "NameError",
     "evalue": "name 'Hello' is not defined",
     "output_type": "error",
     "traceback": [
      "\u001b[1;31m---------------------------------------------------------------------------\u001b[0m",
      "\u001b[1;31mNameError\u001b[0m                                 Traceback (most recent call last)",
      "Cell \u001b[1;32mIn[37], line 2\u001b[0m\n\u001b[0;32m      1\u001b[0m \u001b[38;5;66;03m#Runtime error\u001b[39;00m\n\u001b[1;32m----> 2\u001b[0m \u001b[38;5;28mprint\u001b[39m(\u001b[43mHello\u001b[49m)\n",
      "\u001b[1;31mNameError\u001b[0m: name 'Hello' is not defined"
     ]
    }
   ],
   "source": [
    "#Runtime error\n",
    "print(Hello)"
   ]
  },
  {
   "cell_type": "markdown",
   "id": "40d949ae",
   "metadata": {},
   "source": [
    "# Variables"
   ]
  },
  {
   "cell_type": "code",
   "execution_count": 38,
   "id": "306f273c",
   "metadata": {},
   "outputs": [
    {
     "name": "stdout",
     "output_type": "stream",
     "text": [
      "Hello\n"
     ]
    }
   ],
   "source": [
    "greetings = \"Hello\"\n",
    "print(greetings)\n",
    "\n",
    "# variable names are case sensitive"
   ]
  },
  {
   "cell_type": "code",
   "execution_count": 39,
   "id": "820bca98",
   "metadata": {},
   "outputs": [
    {
     "data": {
      "text/plain": [
       "23"
      ]
     },
     "execution_count": 39,
     "metadata": {},
     "output_type": "execute_result"
    }
   ],
   "source": [
    "x = 23\n",
    "x"
   ]
  },
  {
   "cell_type": "code",
   "execution_count": 40,
   "id": "270f1694",
   "metadata": {},
   "outputs": [
    {
     "name": "stdout",
     "output_type": "stream",
     "text": [
      "23\n"
     ]
    }
   ],
   "source": [
    "x = 23\n",
    "print(x)"
   ]
  },
  {
   "cell_type": "code",
   "execution_count": 41,
   "id": "bc4f0cd9",
   "metadata": {},
   "outputs": [
    {
     "name": "stdout",
     "output_type": "stream",
     "text": [
      "2\n",
      "2\n"
     ]
    }
   ],
   "source": [
    "x = 2\n",
    "y=\"2\"\n",
    "print(x)\n",
    "print(y)"
   ]
  },
  {
   "cell_type": "code",
   "execution_count": 42,
   "id": "e5b1cea1",
   "metadata": {},
   "outputs": [
    {
     "data": {
      "text/plain": [
       "2"
      ]
     },
     "execution_count": 42,
     "metadata": {},
     "output_type": "execute_result"
    }
   ],
   "source": [
    "x"
   ]
  },
  {
   "cell_type": "code",
   "execution_count": 43,
   "id": "86ae9138",
   "metadata": {},
   "outputs": [
    {
     "data": {
      "text/plain": [
       "'2'"
      ]
     },
     "execution_count": 43,
     "metadata": {},
     "output_type": "execute_result"
    }
   ],
   "source": [
    "y"
   ]
  },
  {
   "cell_type": "markdown",
   "id": "2e0950db",
   "metadata": {},
   "source": [
    "'''\n",
    "The key takeaway here is that print() displays a readable representation of a variable’s value, while variable inspection displays the value as it appears in the code.\n",
    "'''\n"
   ]
  },
  {
   "cell_type": "code",
   "execution_count": 44,
   "id": "57cae079",
   "metadata": {},
   "outputs": [
    {
     "data": {
      "text/plain": [
       "str"
      ]
     },
     "execution_count": 44,
     "metadata": {},
     "output_type": "execute_result"
    }
   ],
   "source": [
    "type(\"Hello\")"
   ]
  },
  {
   "cell_type": "code",
   "execution_count": 45,
   "id": "66651996",
   "metadata": {},
   "outputs": [
    {
     "data": {
      "text/plain": [
       "int"
      ]
     },
     "execution_count": 45,
     "metadata": {},
     "output_type": "execute_result"
    }
   ],
   "source": [
    "type(1)"
   ]
  },
  {
   "cell_type": "code",
   "execution_count": 46,
   "id": "f2ccf9a4",
   "metadata": {},
   "outputs": [
    {
     "data": {
      "text/plain": [
       "float"
      ]
     },
     "execution_count": 46,
     "metadata": {},
     "output_type": "execute_result"
    }
   ],
   "source": [
    "type(1.34)"
   ]
  },
  {
   "cell_type": "code",
   "execution_count": 47,
   "id": "db6ec4c6",
   "metadata": {},
   "outputs": [
    {
     "data": {
      "text/plain": [
       "int"
      ]
     },
     "execution_count": 47,
     "metadata": {},
     "output_type": "execute_result"
    }
   ],
   "source": [
    "type(0)"
   ]
  },
  {
   "cell_type": "code",
   "execution_count": 48,
   "id": "5183bdbf",
   "metadata": {},
   "outputs": [
    {
     "data": {
      "text/plain": [
       "bool"
      ]
     },
     "execution_count": 48,
     "metadata": {},
     "output_type": "execute_result"
    }
   ],
   "source": [
    "type(True)"
   ]
  },
  {
   "cell_type": "code",
   "execution_count": 49,
   "id": "b6f0514f",
   "metadata": {},
   "outputs": [
    {
     "ename": "NameError",
     "evalue": "name 'true' is not defined",
     "output_type": "error",
     "traceback": [
      "\u001b[1;31m---------------------------------------------------------------------------\u001b[0m",
      "\u001b[1;31mNameError\u001b[0m                                 Traceback (most recent call last)",
      "Cell \u001b[1;32mIn[49], line 1\u001b[0m\n\u001b[1;32m----> 1\u001b[0m \u001b[38;5;28mtype\u001b[39m(\u001b[43mtrue\u001b[49m)\n",
      "\u001b[1;31mNameError\u001b[0m: name 'true' is not defined"
     ]
    }
   ],
   "source": [
    "type(true)"
   ]
  },
  {
   "cell_type": "code",
   "execution_count": 50,
   "id": "c801bf6f",
   "metadata": {},
   "outputs": [
    {
     "data": {
      "text/plain": [
       "bool"
      ]
     },
     "execution_count": 50,
     "metadata": {},
     "output_type": "execute_result"
    }
   ],
   "source": [
    "type(False)"
   ]
  },
  {
   "cell_type": "code",
   "execution_count": 51,
   "id": "c41ef670",
   "metadata": {},
   "outputs": [
    {
     "ename": "NameError",
     "evalue": "name 'false' is not defined",
     "output_type": "error",
     "traceback": [
      "\u001b[1;31m---------------------------------------------------------------------------\u001b[0m",
      "\u001b[1;31mNameError\u001b[0m                                 Traceback (most recent call last)",
      "Cell \u001b[1;32mIn[51], line 1\u001b[0m\n\u001b[1;32m----> 1\u001b[0m \u001b[38;5;28mtype\u001b[39m(\u001b[43mfalse\u001b[49m)\n",
      "\u001b[1;31mNameError\u001b[0m: name 'false' is not defined"
     ]
    }
   ],
   "source": [
    "type(false)"
   ]
  },
  {
   "cell_type": "code",
   "execution_count": 54,
   "id": "899e7c46",
   "metadata": {},
   "outputs": [
    {
     "data": {
      "text/plain": [
       "5"
      ]
     },
     "execution_count": 54,
     "metadata": {},
     "output_type": "execute_result"
    }
   ],
   "source": [
    "len(greetings) # Hello has 5 letters in it"
   ]
  },
  {
   "cell_type": "code",
   "execution_count": 55,
   "id": "22c095cd",
   "metadata": {},
   "outputs": [],
   "source": [
    "## multiline strings; use \"\\\" at the end"
   ]
  },
  {
   "cell_type": "code",
   "execution_count": 57,
   "id": "c83d618d",
   "metadata": {},
   "outputs": [
    {
     "data": {
      "text/plain": [
       "'A paragraph is a self-contained unit of writing, usually a group of sentences, that focuses on a single idea or topic, organized to present a single thought or point in a logical way. Paragraphs structure longer pieces of prose, with each paragraph typically beginning with a topic sentence, followed by supporting details or examples, and sometimes a concluding sentence that transitions'"
      ]
     },
     "execution_count": 57,
     "metadata": {},
     "output_type": "execute_result"
    }
   ],
   "source": [
    "paragraph = \"A paragraph is a self-contained unit of writing, usually a group of sentences, that focuses on a single idea or topic, organized to present a single thought or point in a logical way. Paragraphs structure longer pieces of prose, with each paragraph typically beginning with a topic sentence, followed by supporting details or examples, and sometimes a concluding sentence that transitions\"\n",
    "paragraph"
   ]
  },
  {
   "cell_type": "code",
   "execution_count": 70,
   "id": "20ee0112",
   "metadata": {},
   "outputs": [
    {
     "name": "stdout",
     "output_type": "stream",
     "text": [
      "A paragraph is a self-contained unit of writing, \n",
      "usually a group of sentences, that focuses on a single \n",
      "idea or topic, organized to present a single thought or point.\n"
     ]
    }
   ],
   "source": [
    "paragraph1 = \"A paragraph is a self-contained unit of writing, \\nusually a group of sentences, that focuses on a single \\nidea or topic, organized to present a single thought or point.\"\n",
    "print(paragraph1)"
   ]
  },
  {
   "cell_type": "markdown",
   "id": "395ac66c",
   "metadata": {},
   "source": [
    "Concatenation, Indexing, and\n",
    "Slicing\n"
   ]
  },
  {
   "cell_type": "code",
   "execution_count": 74,
   "id": "97070382",
   "metadata": {},
   "outputs": [
    {
     "data": {
      "text/plain": [
       "'Shreyash Sakhare'"
      ]
     },
     "execution_count": 74,
     "metadata": {},
     "output_type": "execute_result"
    }
   ],
   "source": [
    "string_1 = \"Shreyash\"\n",
    "string_2 = \"Sakhare\""
   ]
  },
  {
   "cell_type": "code",
   "execution_count": 75,
   "id": "c60977b2",
   "metadata": {},
   "outputs": [
    {
     "data": {
      "text/plain": [
       "'ShreyashSakhare'"
      ]
     },
     "execution_count": 75,
     "metadata": {},
     "output_type": "execute_result"
    }
   ],
   "source": [
    "string_1+string_2"
   ]
  },
  {
   "cell_type": "code",
   "execution_count": 76,
   "id": "1926d6e5",
   "metadata": {},
   "outputs": [
    {
     "data": {
      "text/plain": [
       "'Shreyash Sakhare'"
      ]
     },
     "execution_count": 76,
     "metadata": {},
     "output_type": "execute_result"
    }
   ],
   "source": [
    "string_1 + \" \" + string_2"
   ]
  },
  {
   "cell_type": "code",
   "execution_count": 82,
   "id": "9696520d",
   "metadata": {},
   "outputs": [
    {
     "name": "stdout",
     "output_type": "stream",
     "text": [
      "ABCDEFGH\n",
      "C\n",
      "BCD\n",
      "ABCD\n",
      "DEFGH\n",
      "ABCDEF\n"
     ]
    }
   ],
   "source": [
    "string_1 = \"ABCDEFGH\"\n",
    "\n",
    "print(string_1)"
   ]
  },
  {
   "cell_type": "code",
   "execution_count": 83,
   "id": "183ae584",
   "metadata": {},
   "outputs": [
    {
     "name": "stdout",
     "output_type": "stream",
     "text": [
      "C\n",
      "BCD\n"
     ]
    }
   ],
   "source": [
    "print(string_1[2])"
   ]
  },
  {
   "cell_type": "code",
   "execution_count": 84,
   "id": "ebe2cd5f",
   "metadata": {},
   "outputs": [
    {
     "name": "stdout",
     "output_type": "stream",
     "text": [
      "BCD\n"
     ]
    }
   ],
   "source": [
    "print(string_1[1:4])"
   ]
  },
  {
   "cell_type": "code",
   "execution_count": 85,
   "id": "dae64ff7",
   "metadata": {},
   "outputs": [
    {
     "name": "stdout",
     "output_type": "stream",
     "text": [
      "ABCD\n"
     ]
    }
   ],
   "source": [
    "print(string_1[:4])"
   ]
  },
  {
   "cell_type": "code",
   "execution_count": 86,
   "id": "0eddfe1e",
   "metadata": {},
   "outputs": [
    {
     "name": "stdout",
     "output_type": "stream",
     "text": [
      "DEFGH\n"
     ]
    }
   ],
   "source": [
    "print(string_1[3:])"
   ]
  },
  {
   "cell_type": "code",
   "execution_count": 87,
   "id": "930fc5d5",
   "metadata": {},
   "outputs": [
    {
     "name": "stdout",
     "output_type": "stream",
     "text": [
      "ABCDEF\n"
     ]
    }
   ],
   "source": [
    "print(string_1[:-2])"
   ]
  },
  {
   "cell_type": "code",
   "execution_count": 89,
   "id": "98f75fa0",
   "metadata": {},
   "outputs": [
    {
     "data": {
      "text/plain": [
       "8"
      ]
     },
     "execution_count": 89,
     "metadata": {},
     "output_type": "execute_result"
    }
   ],
   "source": [
    "len(string_1)"
   ]
  },
  {
   "cell_type": "code",
   "execution_count": 92,
   "id": "f2109f38",
   "metadata": {},
   "outputs": [
    {
     "data": {
      "text/plain": [
       "7"
      ]
     },
     "execution_count": 92,
     "metadata": {},
     "output_type": "execute_result"
    }
   ],
   "source": [
    "max_index = len(string_1) - 1\n",
    "max_index"
   ]
  },
  {
   "cell_type": "code",
   "execution_count": 96,
   "id": "94c94d2a",
   "metadata": {},
   "outputs": [
    {
     "data": {
      "text/plain": [
       "'H'"
      ]
     },
     "execution_count": 96,
     "metadata": {},
     "output_type": "execute_result"
    }
   ],
   "source": [
    "last_char = string_1[max_index]\n",
    "last_char"
   ]
  },
  {
   "cell_type": "markdown",
   "id": "b6fc3b99",
   "metadata": {},
   "source": [
    "Strings are immutable, which means that you can’t change\n",
    "them once you’ve created them"
   ]
  },
  {
   "cell_type": "code",
   "execution_count": 99,
   "id": "636c1459",
   "metadata": {},
   "outputs": [
    {
     "data": {
      "text/plain": [
       "'G'"
      ]
     },
     "execution_count": 99,
     "metadata": {},
     "output_type": "execute_result"
    }
   ],
   "source": [
    "word_1 = \"Goal\"\n",
    "word_1[0]"
   ]
  },
  {
   "cell_type": "code",
   "execution_count": 101,
   "id": "7d529467",
   "metadata": {},
   "outputs": [
    {
     "ename": "TypeError",
     "evalue": "'str' object does not support item assignment",
     "output_type": "error",
     "traceback": [
      "\u001b[1;31m---------------------------------------------------------------------------\u001b[0m",
      "\u001b[1;31mTypeError\u001b[0m                                 Traceback (most recent call last)",
      "Cell \u001b[1;32mIn[101], line 1\u001b[0m\n\u001b[1;32m----> 1\u001b[0m word_1[\u001b[38;5;241m0\u001b[39m] \u001b[38;5;241m=\u001b[39m \u001b[38;5;124m\"\u001b[39m\u001b[38;5;124mC\u001b[39m\u001b[38;5;124m\"\u001b[39m\n\u001b[0;32m      2\u001b[0m word_1\n",
      "\u001b[1;31mTypeError\u001b[0m: 'str' object does not support item assignment"
     ]
    }
   ],
   "source": [
    "word_1[0] = \"C\"\n",
    "word_1"
   ]
  },
  {
   "cell_type": "markdown",
   "id": "fab08695",
   "metadata": {},
   "source": [
    "Converting string case"
   ]
  },
  {
   "cell_type": "code",
   "execution_count": 103,
   "id": "e0d898f1",
   "metadata": {},
   "outputs": [
    {
     "data": {
      "text/plain": [
       "'shreyash sakhare'"
      ]
     },
     "execution_count": 103,
     "metadata": {},
     "output_type": "execute_result"
    }
   ],
   "source": [
    "\"SHreyasH SaKHare\".lower()"
   ]
  },
  {
   "cell_type": "code",
   "execution_count": 105,
   "id": "b4921552",
   "metadata": {},
   "outputs": [
    {
     "data": {
      "text/plain": [
       "'SHREYASH SAKHARE'"
      ]
     },
     "execution_count": 105,
     "metadata": {},
     "output_type": "execute_result"
    }
   ],
   "source": [
    "\"SHreyasH SaKHare\".upper()"
   ]
  },
  {
   "cell_type": "code",
   "execution_count": 107,
   "id": "dfa377e1",
   "metadata": {},
   "outputs": [
    {
     "data": {
      "text/plain": [
       "'Shreyash Sakhare'"
      ]
     },
     "execution_count": 107,
     "metadata": {},
     "output_type": "execute_result"
    }
   ],
   "source": [
    "\"SHreyasH SaKHare\".title()"
   ]
  },
  {
   "cell_type": "code",
   "execution_count": 109,
   "id": "d3309a31",
   "metadata": {},
   "outputs": [
    {
     "data": {
      "text/plain": [
       "'Shreyash sakhare'"
      ]
     },
     "execution_count": 109,
     "metadata": {},
     "output_type": "execute_result"
    }
   ],
   "source": [
    "\"SHreyasH SaKHare\".capitalize()"
   ]
  },
  {
   "cell_type": "markdown",
   "id": "18e05c47",
   "metadata": {},
   "source": [
    "#.strip()\n",
    "\n",
    "#.rstrip()\n",
    "\n",
    "#.lstrip()"
   ]
  },
  {
   "cell_type": "code",
   "execution_count": 111,
   "id": "51f42be6",
   "metadata": {},
   "outputs": [
    {
     "data": {
      "text/plain": [
       "'Shreyash   Sakhare'"
      ]
     },
     "execution_count": 111,
     "metadata": {},
     "output_type": "execute_result"
    }
   ],
   "source": [
    "\"    Shreyash   Sakhare  \".strip()"
   ]
  },
  {
   "cell_type": "code",
   "execution_count": 112,
   "id": "b4fc6da8",
   "metadata": {},
   "outputs": [
    {
     "data": {
      "text/plain": [
       "'Shreyash   Sakhare  '"
      ]
     },
     "execution_count": 112,
     "metadata": {},
     "output_type": "execute_result"
    }
   ],
   "source": [
    "\"    Shreyash   Sakhare  \".lstrip()"
   ]
  },
  {
   "cell_type": "code",
   "execution_count": 115,
   "id": "c4189faf",
   "metadata": {},
   "outputs": [
    {
     "data": {
      "text/plain": [
       "'    Shreyash   Sakhare'"
      ]
     },
     "execution_count": 115,
     "metadata": {},
     "output_type": "execute_result"
    }
   ],
   "source": [
    "\"    Shreyash   Sakhare  \".rstrip()"
   ]
  },
  {
   "cell_type": "markdown",
   "id": "1725c4e4",
   "metadata": {},
   "source": [
    "Determine If a String Starts or Ends With a\n",
    "Particular String"
   ]
  },
  {
   "cell_type": "code",
   "execution_count": 120,
   "id": "ea838381",
   "metadata": {},
   "outputs": [
    {
     "data": {
      "text/plain": [
       "False"
      ]
     },
     "execution_count": 120,
     "metadata": {},
     "output_type": "execute_result"
    }
   ],
   "source": [
    "\"Shreyash\".startswith(\"sh\")"
   ]
  },
  {
   "cell_type": "code",
   "execution_count": 121,
   "id": "daf0dce3",
   "metadata": {},
   "outputs": [
    {
     "data": {
      "text/plain": [
       "True"
      ]
     },
     "execution_count": 121,
     "metadata": {},
     "output_type": "execute_result"
    }
   ],
   "source": [
    "\"Shreyash\".startswith(\"Sh\")"
   ]
  },
  {
   "cell_type": "code",
   "execution_count": 122,
   "id": "dcff0003",
   "metadata": {},
   "outputs": [
    {
     "data": {
      "text/plain": [
       "False"
      ]
     },
     "execution_count": 122,
     "metadata": {},
     "output_type": "execute_result"
    }
   ],
   "source": [
    "\"Shreyash\".endswith(\"as\")"
   ]
  },
  {
   "cell_type": "code",
   "execution_count": 124,
   "id": "4cdfdaf6",
   "metadata": {},
   "outputs": [
    {
     "data": {
      "text/plain": [
       "True"
      ]
     },
     "execution_count": 124,
     "metadata": {},
     "output_type": "execute_result"
    }
   ],
   "source": [
    "\"Shreyash\".endswith(\"sh\")"
   ]
  },
  {
   "cell_type": "markdown",
   "id": "4fc7c154",
   "metadata": {},
   "source": [
    "Interact With User Input"
   ]
  },
  {
   "cell_type": "code",
   "execution_count": 126,
   "id": "68fa11c0",
   "metadata": {},
   "outputs": [
    {
     "name": "stdout",
     "output_type": "stream",
     "text": [
      "Aha\n"
     ]
    },
    {
     "data": {
      "text/plain": [
       "'Aha'"
      ]
     },
     "execution_count": 126,
     "metadata": {},
     "output_type": "execute_result"
    }
   ],
   "source": [
    "input() # Asks the user input and take it as a string data type"
   ]
  },
  {
   "cell_type": "code",
   "execution_count": 130,
   "id": "ad315c44",
   "metadata": {},
   "outputs": [
    {
     "name": "stdout",
     "output_type": "stream",
     "text": [
      "Shreyash\n",
      "Hey, Shreyash\n"
     ]
    }
   ],
   "source": [
    "prompt = \"Hey, \"\n",
    "user_input = input()\n",
    "print(prompt + user_input)"
   ]
  },
  {
   "cell_type": "code",
   "execution_count": 135,
   "id": "af99f0ec",
   "metadata": {},
   "outputs": [
    {
     "data": {
      "text/plain": [
       "'347347347347347'"
      ]
     },
     "execution_count": 135,
     "metadata": {},
     "output_type": "execute_result"
    }
   ],
   "source": [
    "num = \"347\"\n",
    "num*5"
   ]
  },
  {
   "cell_type": "code",
   "execution_count": 138,
   "id": "6484d519",
   "metadata": {},
   "outputs": [
    {
     "data": {
      "text/plain": [
       "'2323'"
      ]
     },
     "execution_count": 138,
     "metadata": {},
     "output_type": "execute_result"
    }
   ],
   "source": [
    "num = \"23\"\n",
    "num+num"
   ]
  },
  {
   "cell_type": "code",
   "execution_count": 140,
   "id": "3cdcc2bf",
   "metadata": {},
   "outputs": [
    {
     "data": {
      "text/plain": [
       "46"
      ]
     },
     "execution_count": 140,
     "metadata": {},
     "output_type": "execute_result"
    }
   ],
   "source": [
    "num = 23\n",
    "num+num"
   ]
  },
  {
   "cell_type": "code",
   "execution_count": 142,
   "id": "7d382de6",
   "metadata": {},
   "outputs": [
    {
     "name": "stdout",
     "output_type": "stream",
     "text": [
      "enter any number23\n"
     ]
    },
    {
     "data": {
      "text/plain": [
       "'2323'"
      ]
     },
     "execution_count": 142,
     "metadata": {},
     "output_type": "execute_result"
    }
   ],
   "source": [
    "number = input(\"enter any number\")\n",
    "number*2"
   ]
  },
  {
   "cell_type": "code",
   "execution_count": 145,
   "id": "eace0c42",
   "metadata": {},
   "outputs": [
    {
     "name": "stdout",
     "output_type": "stream",
     "text": [
      "enter any number: 65\n"
     ]
    },
    {
     "data": {
      "text/plain": [
       "130"
      ]
     },
     "execution_count": 145,
     "metadata": {},
     "output_type": "execute_result"
    }
   ],
   "source": [
    "number = input(\"enter any number: \")\n",
    "number = int(number)\n",
    "number*2"
   ]
  },
  {
   "cell_type": "code",
   "execution_count": 151,
   "id": "262b4a17",
   "metadata": {},
   "outputs": [
    {
     "data": {
      "text/plain": [
       "'1212'"
      ]
     },
     "execution_count": 151,
     "metadata": {},
     "output_type": "execute_result"
    }
   ],
   "source": [
    "number_1 = 12\n",
    "number_to_string = str(number_1)\n",
    "number_to_string+number_to_string"
   ]
  },
  {
   "cell_type": "markdown",
   "id": "6a1d2947",
   "metadata": {},
   "source": [
    "Working with f-string"
   ]
  },
  {
   "cell_type": "markdown",
   "id": "56b7c0cb",
   "metadata": {},
   "source": [
    "What the curly brackets { } mean\n",
    "\n",
    "Inside an f-string, anything between { ... } is evaluated as Python code and then inserted into the string."
   ]
  },
  {
   "cell_type": "code",
   "execution_count": 168,
   "id": "750b0c7e",
   "metadata": {},
   "outputs": [
    {
     "data": {
      "text/plain": [
       "'the addition of a = 34 and b = 35 is 69'"
      ]
     },
     "execution_count": 168,
     "metadata": {},
     "output_type": "execute_result"
    }
   ],
   "source": [
    "f\"the addition of a = {34} and b = {35} is {34+35}\""
   ]
  },
  {
   "cell_type": "code",
   "execution_count": 170,
   "id": "6755c2f1",
   "metadata": {},
   "outputs": [
    {
     "data": {
      "text/plain": [
       "11"
      ]
     },
     "execution_count": 170,
     "metadata": {},
     "output_type": "execute_result"
    }
   ],
   "source": [
    "string = \"the series was one of the best one-day series of all time\"\n",
    "string.find(\"was\")"
   ]
  },
  {
   "cell_type": "code",
   "execution_count": 172,
   "id": "55e34e13",
   "metadata": {},
   "outputs": [
    {
     "data": {
      "text/plain": [
       "26"
      ]
     },
     "execution_count": 172,
     "metadata": {},
     "output_type": "execute_result"
    }
   ],
   "source": [
    "string.find(\"bes\")"
   ]
  }
 ],
 "metadata": {
  "kernelspec": {
   "display_name": "Python 3 (ipykernel)",
   "language": "python",
   "name": "python3"
  },
  "language_info": {
   "codemirror_mode": {
    "name": "ipython",
    "version": 3
   },
   "file_extension": ".py",
   "mimetype": "text/x-python",
   "name": "python",
   "nbconvert_exporter": "python",
   "pygments_lexer": "ipython3",
   "version": "3.9.12"
  },
  "toc": {
   "base_numbering": 1,
   "nav_menu": {},
   "number_sections": true,
   "sideBar": true,
   "skip_h1_title": true,
   "title_cell": "Table of Contents",
   "title_sidebar": "Contents",
   "toc_cell": false,
   "toc_position": {},
   "toc_section_display": true,
   "toc_window_display": true
  },
  "varInspector": {
   "cols": {
    "lenName": 16,
    "lenType": 16,
    "lenVar": 40
   },
   "kernels_config": {
    "python": {
     "delete_cmd_postfix": "",
     "delete_cmd_prefix": "del ",
     "library": "var_list.py",
     "varRefreshCmd": "print(var_dic_list())"
    },
    "r": {
     "delete_cmd_postfix": ") ",
     "delete_cmd_prefix": "rm(",
     "library": "var_list.r",
     "varRefreshCmd": "cat(var_dic_list()) "
    }
   },
   "types_to_exclude": [
    "module",
    "function",
    "builtin_function_or_method",
    "instance",
    "_Feature"
   ],
   "window_display": false
  }
 },
 "nbformat": 4,
 "nbformat_minor": 5
}
