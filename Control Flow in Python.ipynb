{
 "cells": [
  {
   "cell_type": "markdown",
   "id": "bb4586cb",
   "metadata": {},
   "source": [
    "## Control Flow in Python"
   ]
  },
  {
   "cell_type": "markdown",
   "id": "9b8962ff",
   "metadata": {},
   "source": [
    "### In Python, control flow is managed using: if, elif, else"
   ]
  },
  {
   "cell_type": "markdown",
   "id": "ee99afd4",
   "metadata": {},
   "source": [
    "#### _ Comparison Operators _\n",
    "\n",
    "_ == : equal to\n",
    " \n",
    "_ != : not equal to\n",
    " \n",
    "_ <  : less than\n",
    " \n",
    "_ <= : less than or equal\n",
    "\n",
    "_ >  : greater than\n",
    " \n",
    "_ >= : greater than or equal"
   ]
  },
  {
   "cell_type": "markdown",
   "id": "8847b747",
   "metadata": {},
   "source": [
    "#### _ Boolean Operators _\n",
    "\n",
    "_ and : both must be True\n",
    "\n",
    "_ or  : at least one must be True\n",
    "\n",
    "_ not : negates a condition"
   ]
  },
  {
   "cell_type": "markdown",
   "id": "1339489d",
   "metadata": {},
   "source": [
    "### Fintech applications ###"
   ]
  },
  {
   "cell_type": "markdown",
   "id": "a0c2e1d6",
   "metadata": {},
   "source": [
    "#### Balance alerts"
   ]
  },
  {
   "cell_type": "markdown",
   "id": "d847b06b",
   "metadata": {},
   "source": [
    " Warn user if balance < minimum threshold"
   ]
  },
  {
   "cell_type": "code",
   "execution_count": 30,
   "id": "4b698f03",
   "metadata": {},
   "outputs": [
    {
     "name": "stdout",
     "output_type": "stream",
     "text": [
      "initial balance = 1200000\n",
      "last transaction (negative for debit & positive for credit) = -23455\n",
      "\n",
      "Minimum balance is maintained \n",
      "\n",
      "Current_balance = 1176545\n"
     ]
    }
   ],
   "source": [
    "initial_balance = int(input(\"Initial balance = \"))\n",
    "\n",
    "latest_transaction = int(input(\"Last transaction (negative for debit & positive for credit) = \")) \n",
    "### Credit (+); debit(-) ###\n",
    "\n",
    "updated_balance = initial_balance + latest_transaction\n",
    "\n",
    "if updated_balance >= 25000:\n",
    "    print(f\"\\nMinimum balance is maintained \\n\\nCurrent_balance = {updated_balance}\")\n",
    "else:\n",
    "    print(f\"\\nBalance below minimum threshold \\n\\nCurrent_balance = {updated_balance}\")"
   ]
  },
  {
   "cell_type": "markdown",
   "id": "82a5339a",
   "metadata": {},
   "source": [
    "#### A program that approves a credit card"
   ]
  },
  {
   "cell_type": "code",
   "execution_count": 29,
   "id": "0d29564a",
   "metadata": {},
   "outputs": [
    {
     "name": "stdout",
     "output_type": "stream",
     "text": [
      "Yearly Income = 1200000\n",
      "Credit_score = 855\n",
      "\n",
      "Eligible for credit card\n"
     ]
    }
   ],
   "source": [
    "yearly_income = int(input(\"Yearly Income = \"))\n",
    "credit_score = int(input(\"Credit_score = \"))\n",
    "\n",
    "if yearly_income >= 600000 and credit_score >= 650:\n",
    "    print(\"\\nEligible for credit card\")\n",
    "else:\n",
    "    print(\"\\nNOT Eligible for credit card\")"
   ]
  },
  {
   "cell_type": "markdown",
   "id": "52c53f14",
   "metadata": {},
   "source": [
    "### Control Flow Continued\n",
    " - Nested if statements\n",
    " \n",
    " - Combining multiple conditions with 'and', 'or', 'not'\n",
    " \n",
    " - Writing cleaner, more complex decision-making logic"
   ]
  },
  {
   "cell_type": "markdown",
   "id": "f984d627",
   "metadata": {},
   "source": [
    "#### Nested IF"
   ]
  },
  {
   "cell_type": "markdown",
   "id": "4606f6a5",
   "metadata": {},
   "source": [
    "Loan Eligibility"
   ]
  },
  {
   "cell_type": "code",
   "execution_count": 6,
   "id": "48509e6a",
   "metadata": {},
   "outputs": [
    {
     "name": "stdout",
     "output_type": "stream",
     "text": [
      "Age of the applicant = 28\n",
      "Annual Income in INR = 200000\n",
      "Credit Score = 780\n",
      "Not eligible: Income too low\n"
     ]
    }
   ],
   "source": [
    "age = int(input(\"Age of the applicant = \"))\n",
    "annual_income = int(input(\"Annual Income in INR = \"))\n",
    "credit_score = int(input(\"Credit Score = \"))\n",
    "\n",
    "if age>21:\n",
    "    if annual_income>=300000:\n",
    "        if credit_score >= 750:\n",
    "            print(\"Eligible for loan with best interest rate\")\n",
    "        elif credit_score >= 650:\n",
    "            print(\"Eligible for loan but higher interest rate\")\n",
    "        else:\n",
    "            print(\"Not eligible due to low credit score\") \n",
    "    else:\n",
    "        print(\"Not eligible: Income too low\") "
   ]
  },
  {
   "cell_type": "markdown",
   "id": "9263c453",
   "metadata": {},
   "source": [
    "#### Combining conditions\n",
    "  Use logical operators:- \n",
    "  - and: both must be True\n",
    "  - or: at least one must be True\n",
    "  - not: negates a condition"
   ]
  },
  {
   "cell_type": "markdown",
   "id": "bbba8f20",
   "metadata": {},
   "source": [
    "Fraud detection"
   ]
  },
  {
   "cell_type": "code",
   "execution_count": 25,
   "id": "e1f7d240",
   "metadata": {},
   "outputs": [
    {
     "name": "stdout",
     "output_type": "stream",
     "text": [
      "Txn Amount = 59000\n",
      "Country = usa\n",
      "Normal transaction\n"
     ]
    }
   ],
   "source": [
    "transaction_amount = int(input(\"Txn Amount = \"))\n",
    "country = input(\"Country = \")\n",
    "\n",
    "if transaction_amount>=75000 and country == \"India\":\n",
    "    print(\"Domestic Suspicious Transaction\")\n",
    "    \n",
    "elif transaction_amount>=60000 and country != \"India\":\n",
    "    print(\"International suspicious transaction\")\n",
    "else:\n",
    "    print(\"Normal transaction\")\n",
    "    "
   ]
  },
  {
   "cell_type": "markdown",
   "id": "b3a2490c",
   "metadata": {},
   "source": [
    "Investment Decision"
   ]
  },
  {
   "cell_type": "code",
   "execution_count": 43,
   "id": "c751e813",
   "metadata": {},
   "outputs": [
    {
     "name": "stdout",
     "output_type": "stream",
     "text": [
      "Stock Price = 300\n",
      "PE Ratio = 28\n",
      "Avoid\n"
     ]
    }
   ],
   "source": [
    "stock_price = int(input(\"Stock Price = \"))\n",
    "PE_ratio = int(input(\"PE Ratio = \"))\n",
    "\n",
    "if stock_price<200 and PE_ratio<15:\n",
    "    print(\"Buy\")\n",
    "elif (200<=stock_price<= 500) and PE_ratio<25:\n",
    "    print(\"Hold\")\n",
    "else:\n",
    "    print(\"Avoid\")"
   ]
  },
  {
   "cell_type": "code",
   "execution_count": null,
   "id": "92450ed4",
   "metadata": {},
   "outputs": [],
   "source": [
    "## NEXT CHAPTER TO STUDY (Loops (For, While))"
   ]
  }
 ],
 "metadata": {
  "kernelspec": {
   "display_name": "Python 3 (ipykernel)",
   "language": "python",
   "name": "python3"
  },
  "language_info": {
   "codemirror_mode": {
    "name": "ipython",
    "version": 3
   },
   "file_extension": ".py",
   "mimetype": "text/x-python",
   "name": "python",
   "nbconvert_exporter": "python",
   "pygments_lexer": "ipython3",
   "version": "3.9.12"
  },
  "toc": {
   "base_numbering": 1,
   "nav_menu": {},
   "number_sections": true,
   "sideBar": true,
   "skip_h1_title": true,
   "title_cell": "Table of Contents",
   "title_sidebar": "Contents",
   "toc_cell": false,
   "toc_position": {
    "height": "calc(100% - 180px)",
    "left": "10px",
    "top": "150px",
    "width": "165px"
   },
   "toc_section_display": true,
   "toc_window_display": false
  },
  "varInspector": {
   "cols": {
    "lenName": 16,
    "lenType": 16,
    "lenVar": 40
   },
   "kernels_config": {
    "python": {
     "delete_cmd_postfix": "",
     "delete_cmd_prefix": "del ",
     "library": "var_list.py",
     "varRefreshCmd": "print(var_dic_list())"
    },
    "r": {
     "delete_cmd_postfix": ") ",
     "delete_cmd_prefix": "rm(",
     "library": "var_list.r",
     "varRefreshCmd": "cat(var_dic_list()) "
    }
   },
   "types_to_exclude": [
    "module",
    "function",
    "builtin_function_or_method",
    "instance",
    "_Feature"
   ],
   "window_display": false
  }
 },
 "nbformat": 4,
 "nbformat_minor": 5
}
